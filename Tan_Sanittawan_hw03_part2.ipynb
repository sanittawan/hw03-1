{
 "cells": [
  {
   "cell_type": "markdown",
   "metadata": {},
   "source": [
    "## Perspective on Computational Research \n",
    "## HW 03— Part 2\n",
    "## Sanittawan Nikki Tan"
   ]
  },
  {
   "cell_type": "markdown",
   "metadata": {},
   "source": [
    "### Part 2 - Design a visualization"
   ]
  },
  {
   "cell_type": "markdown",
   "metadata": {},
   "source": [
    "Your assignment is to design a static visualization (i.e. a single image) that effectively communicates a data-driven story and provide a written explanation (approximately 500-750 words) describing your design. You should use any dataset you choose, making necessary transformations and summarizations as appropriate. The visualization should be interpretable without reference to your written explanation, so be sure to include all the necessary components (e.g. title, axis labels, legends)."
   ]
  },
  {
   "cell_type": "code",
   "execution_count": 1,
   "metadata": {},
   "outputs": [],
   "source": [
    "import pandas as pd\n",
    "import numpy as np\n",
    "from string import capwords\n",
    "\n",
    "\n",
    "import matplotlib.pyplot as plt\n",
    "import seaborn as sns\n",
    "%matplotlib inline"
   ]
  },
  {
   "cell_type": "code",
   "execution_count": 2,
   "metadata": {},
   "outputs": [],
   "source": [
    "bmr = pd.read_csv('./data/bmr_democracy-v3.0.csv')"
   ]
  },
  {
   "cell_type": "code",
   "execution_count": 3,
   "metadata": {},
   "outputs": [],
   "source": [
    "bmr['country'] = bmr['country'].apply(lambda x: capwords(x.strip().lower()))"
   ]
  },
  {
   "cell_type": "code",
   "execution_count": 4,
   "metadata": {},
   "outputs": [
    {
     "data": {
      "text/plain": [
       "Index(['country', 'ccode', 'abbreviation', 'abbreviation_undp', 'year',\n",
       "       'BMR_democracy', 'BMR_democracy_trans', 'BMR_democracy_breakdowns',\n",
       "       'BMR_democracy_duration', 'democracy_omitteddata',\n",
       "       'democracy_femalesuffrage'],\n",
       "      dtype='object')"
      ]
     },
     "execution_count": 4,
     "metadata": {},
     "output_type": "execute_result"
    }
   ],
   "source": [
    "bmr.columns"
   ]
  },
  {
   "cell_type": "code",
   "execution_count": 5,
   "metadata": {},
   "outputs": [],
   "source": [
    "bmr['year'] = pd.to_datetime(bmr['year'], format='%Y').dt.year"
   ]
  },
  {
   "cell_type": "markdown",
   "metadata": {},
   "source": [
    "### Number of democratic breakdowns"
   ]
  },
  {
   "cell_type": "code",
   "execution_count": 6,
   "metadata": {},
   "outputs": [],
   "source": [
    "bmr_bd = bmr[bmr['year'] == 2015]"
   ]
  },
  {
   "cell_type": "code",
   "execution_count": 7,
   "metadata": {},
   "outputs": [
    {
     "data": {
      "image/png": "[encoded data removed]",
      "text/plain": [
       "<Figure size 403.2x288 with 2 Axes>"
      ]
     },
     "metadata": {
      "needs_background": "light"
     },
     "output_type": "display_data"
    }
   ],
   "source": [
    "# This is just for exploratory purpose; Please do not grade.\n",
    "g = sns.catplot(x=\"BMR_democracy_breakdowns\", col=\"BMR_democracy\",\n",
    "                data=bmr_bd, kind=\"count\",\n",
    "                height=4, aspect=.7);"
   ]
  },
  {
   "cell_type": "markdown",
   "metadata": {},
   "source": [
    "### Number of breakdowns and transitions to democracy"
   ]
  },
  {
   "cell_type": "code",
   "execution_count": 8,
   "metadata": {},
   "outputs": [
    {
     "data": {
      "text/plain": [
       "array([ 0.,  1., -1., nan])"
      ]
     },
     "execution_count": 8,
     "metadata": {},
     "output_type": "execute_result"
    }
   ],
   "source": [
    "# check for NaNs\n",
    "bmr['BMR_democracy_trans'].unique()"
   ]
  },
  {
   "cell_type": "code",
   "execution_count": 9,
   "metadata": {},
   "outputs": [],
   "source": [
    "filter1 = ['country', 'year', 'BMR_democracy_trans']\n",
    "bmr_trans = bmr[filter1]"
   ]
  },
  {
   "cell_type": "code",
   "execution_count": 10,
   "metadata": {},
   "outputs": [],
   "source": [
    "# drop NaNs\n",
    "bmr_trans = bmr_trans.dropna()"
   ]
  },
  {
   "cell_type": "code",
   "execution_count": 11,
   "metadata": {},
   "outputs": [],
   "source": [
    "bmr_trans['transition_occurs'] = 0"
   ]
  },
  {
   "cell_type": "code",
   "execution_count": 12,
   "metadata": {},
   "outputs": [],
   "source": [
    "# set condition. If no transition occurs, the new column has the value of 0\n",
    "condition = bmr_trans['BMR_democracy_trans'] == 0.0"
   ]
  },
  {
   "cell_type": "code",
   "execution_count": 13,
   "metadata": {},
   "outputs": [],
   "source": [
    "# replace values\n",
    "bmr_trans.loc[condition, 'transition_occurs'] = 0"
   ]
  },
  {
   "cell_type": "code",
   "execution_count": 14,
   "metadata": {},
   "outputs": [],
   "source": [
    "# replace values\n",
    "bmr_trans.loc[~condition, 'transition_occurs'] = 1"
   ]
  },
  {
   "cell_type": "markdown",
   "metadata": {},
   "source": [
    "#### Result 1 - Total transitions (to democracy + democratic breakdowns)"
   ]
  },
  {
   "cell_type": "code",
   "execution_count": 15,
   "metadata": {},
   "outputs": [],
   "source": [
    "total_trans = bmr_trans.groupby(['year'])['transition_occurs'].sum()"
   ]
  },
  {
   "cell_type": "code",
   "execution_count": 16,
   "metadata": {},
   "outputs": [
    {
     "data": {
      "text/plain": [
       "array([ 0,  1,  2,  3,  4,  5,  6,  7, 10])"
      ]
     },
     "execution_count": 16,
     "metadata": {},
     "output_type": "execute_result"
    }
   ],
   "source": [
    "total_trans.unique()"
   ]
  },
  {
   "cell_type": "code",
   "execution_count": 17,
   "metadata": {},
   "outputs": [
    {
     "data": {
      "image/png": "[encoded data removed]",
      "text/plain": [
       "<Figure size 432x288 with 1 Axes>"
      ]
     },
     "metadata": {
      "needs_background": "light"
     },
     "output_type": "display_data"
    }
   ],
   "source": [
    "# Test plot; our final plot should look something like this\n",
    "plt.bar(total_trans.index, total_trans.values)\n",
    "plt.title('Number of democratic transitions and breakdowns')\n",
    "plt.xlabel('Year')\n",
    "plt.ylabel('Number of Occurrences')\n",
    "sns.despine();"
   ]
  },
  {
   "cell_type": "markdown",
   "metadata": {},
   "source": [
    "#### Result 2 - Separating Number of Breakdowns and Number of Transitions to Democracy"
   ]
  },
  {
   "cell_type": "code",
   "execution_count": 18,
   "metadata": {},
   "outputs": [],
   "source": [
    "dummies = pd.get_dummies(bmr_trans['BMR_democracy_trans'], prefix='trans_')"
   ]
  },
  {
   "cell_type": "code",
   "execution_count": 19,
   "metadata": {},
   "outputs": [],
   "source": [
    "bmr_trans_final = pd.concat([bmr_trans, dummies], axis=1)"
   ]
  },
  {
   "cell_type": "code",
   "execution_count": 20,
   "metadata": {},
   "outputs": [
    {
     "data": {
      "text/html": [
       "<div>\n",
       "<style scoped>\n",
       "    .dataframe tbody tr th:only-of-type {\n",
       "        vertical-align: middle;\n",
       "    }\n",
       "\n",
       "    .dataframe tbody tr th {\n",
       "        vertical-align: top;\n",
       "    }\n",
       "\n",
       "    .dataframe thead th {\n",
       "        text-align: right;\n",
       "    }\n",
       "</style>\n",
       "<table border=\"1\" class=\"dataframe\">\n",
       "  <thead>\n",
       "    <tr style=\"text-align: right;\">\n",
       "      <th></th>\n",
       "      <th>country</th>\n",
       "      <th>year</th>\n",
       "      <th>BMR_democracy_trans</th>\n",
       "      <th>transition_occurs</th>\n",
       "      <th>trans__-1.0</th>\n",
       "      <th>trans__0.0</th>\n",
       "      <th>trans__1.0</th>\n",
       "    </tr>\n",
       "  </thead>\n",
       "  <tbody>\n",
       "    <tr>\n",
       "      <th>0</th>\n",
       "      <td>United States Of America</td>\n",
       "      <td>1800</td>\n",
       "      <td>0.0</td>\n",
       "      <td>0</td>\n",
       "      <td>0</td>\n",
       "      <td>1</td>\n",
       "      <td>0</td>\n",
       "    </tr>\n",
       "    <tr>\n",
       "      <th>1</th>\n",
       "      <td>United States Of America</td>\n",
       "      <td>1801</td>\n",
       "      <td>0.0</td>\n",
       "      <td>0</td>\n",
       "      <td>0</td>\n",
       "      <td>1</td>\n",
       "      <td>0</td>\n",
       "    </tr>\n",
       "    <tr>\n",
       "      <th>2</th>\n",
       "      <td>United States Of America</td>\n",
       "      <td>1802</td>\n",
       "      <td>0.0</td>\n",
       "      <td>0</td>\n",
       "      <td>0</td>\n",
       "      <td>1</td>\n",
       "      <td>0</td>\n",
       "    </tr>\n",
       "  </tbody>\n",
       "</table>\n",
       "</div>"
      ],
      "text/plain": [
       "                    country  year  BMR_democracy_trans  transition_occurs  \\\n",
       "0  United States Of America  1800                  0.0                  0   \n",
       "1  United States Of America  1801                  0.0                  0   \n",
       "2  United States Of America  1802                  0.0                  0   \n",
       "\n",
       "   trans__-1.0  trans__0.0  trans__1.0  \n",
       "0            0           1           0  \n",
       "1            0           1           0  \n",
       "2            0           1           0  "
      ]
     },
     "execution_count": 20,
     "metadata": {},
     "output_type": "execute_result"
    }
   ],
   "source": [
    "bmr_trans_final.head(3)"
   ]
  },
  {
   "cell_type": "code",
   "execution_count": 21,
   "metadata": {},
   "outputs": [],
   "source": [
    "bmr_trans_final.rename(index=str, columns={\"trans__-1.0\": \"num_breakdowns\",\n",
    "                               \"trans__0.0\":\"num_nochange\",\n",
    "                               \"trans__1.0\": \"num_todem\"}, inplace=True)"
   ]
  },
  {
   "cell_type": "code",
   "execution_count": 22,
   "metadata": {},
   "outputs": [
    {
     "data": {
      "text/html": [
       "<div>\n",
       "<style scoped>\n",
       "    .dataframe tbody tr th:only-of-type {\n",
       "        vertical-align: middle;\n",
       "    }\n",
       "\n",
       "    .dataframe tbody tr th {\n",
       "        vertical-align: top;\n",
       "    }\n",
       "\n",
       "    .dataframe thead th {\n",
       "        text-align: right;\n",
       "    }\n",
       "</style>\n",
       "<table border=\"1\" class=\"dataframe\">\n",
       "  <thead>\n",
       "    <tr style=\"text-align: right;\">\n",
       "      <th></th>\n",
       "      <th>country</th>\n",
       "      <th>year</th>\n",
       "      <th>BMR_democracy_trans</th>\n",
       "      <th>transition_occurs</th>\n",
       "      <th>num_breakdowns</th>\n",
       "      <th>num_nochange</th>\n",
       "      <th>num_todem</th>\n",
       "    </tr>\n",
       "  </thead>\n",
       "  <tbody>\n",
       "    <tr>\n",
       "      <th>0</th>\n",
       "      <td>United States Of America</td>\n",
       "      <td>1800</td>\n",
       "      <td>0.0</td>\n",
       "      <td>0</td>\n",
       "      <td>0</td>\n",
       "      <td>1</td>\n",
       "      <td>0</td>\n",
       "    </tr>\n",
       "    <tr>\n",
       "      <th>1</th>\n",
       "      <td>United States Of America</td>\n",
       "      <td>1801</td>\n",
       "      <td>0.0</td>\n",
       "      <td>0</td>\n",
       "      <td>0</td>\n",
       "      <td>1</td>\n",
       "      <td>0</td>\n",
       "    </tr>\n",
       "    <tr>\n",
       "      <th>2</th>\n",
       "      <td>United States Of America</td>\n",
       "      <td>1802</td>\n",
       "      <td>0.0</td>\n",
       "      <td>0</td>\n",
       "      <td>0</td>\n",
       "      <td>1</td>\n",
       "      <td>0</td>\n",
       "    </tr>\n",
       "  </tbody>\n",
       "</table>\n",
       "</div>"
      ],
      "text/plain": [
       "                    country  year  BMR_democracy_trans  transition_occurs  \\\n",
       "0  United States Of America  1800                  0.0                  0   \n",
       "1  United States Of America  1801                  0.0                  0   \n",
       "2  United States Of America  1802                  0.0                  0   \n",
       "\n",
       "   num_breakdowns  num_nochange  num_todem  \n",
       "0               0             1          0  \n",
       "1               0             1          0  \n",
       "2               0             1          0  "
      ]
     },
     "execution_count": 22,
     "metadata": {},
     "output_type": "execute_result"
    }
   ],
   "source": [
    "bmr_trans_final.head(3)"
   ]
  },
  {
   "cell_type": "markdown",
   "metadata": {},
   "source": [
    "**Number of breakdowns per year**"
   ]
  },
  {
   "cell_type": "code",
   "execution_count": 23,
   "metadata": {},
   "outputs": [],
   "source": [
    "num_breakdowns_year = bmr_trans_final.groupby(['year'])['num_breakdowns'].sum()"
   ]
  },
  {
   "cell_type": "code",
   "execution_count": 24,
   "metadata": {},
   "outputs": [
    {
     "data": {
      "text/plain": [
       "array([0, 1, 3, 2, 4], dtype=uint64)"
      ]
     },
     "execution_count": 24,
     "metadata": {},
     "output_type": "execute_result"
    }
   ],
   "source": [
    "num_breakdowns_year.unique()"
   ]
  },
  {
   "cell_type": "markdown",
   "metadata": {},
   "source": [
    "**Number of transitions to democracy per year**"
   ]
  },
  {
   "cell_type": "code",
   "execution_count": 25,
   "metadata": {},
   "outputs": [],
   "source": [
    "num_to_dem_year = bmr_trans_final.groupby(['year'])['num_todem'].sum()"
   ]
  },
  {
   "cell_type": "code",
   "execution_count": 26,
   "metadata": {},
   "outputs": [
    {
     "data": {
      "text/plain": [
       "array([0, 1, 2, 3, 5, 4, 9], dtype=uint64)"
      ]
     },
     "execution_count": 26,
     "metadata": {},
     "output_type": "execute_result"
    }
   ],
   "source": [
    "num_to_dem_year.unique()"
   ]
  },
  {
   "cell_type": "markdown",
   "metadata": {},
   "source": [
    "**First attempt on the plot** (please do not grade this)"
   ]
  },
  {
   "cell_type": "code",
   "execution_count": 27,
   "metadata": {},
   "outputs": [],
   "source": [
    "from matplotlib.ticker import AutoLocator\n",
    "from matplotlib.ticker import MaxNLocator\n",
    "from matplotlib.ticker import MultipleLocator\n",
    "from matplotlib.ticker import FixedLocator"
   ]
  },
  {
   "cell_type": "code",
   "execution_count": 28,
   "metadata": {},
   "outputs": [
    {
     "name": "stdout",
     "output_type": "stream",
     "text": [
      "AxesSubplot(0.125,0.69125;0.775x0.18875)\n",
      "AxesSubplot(0.125,0.408125;0.775x0.18875)\n",
      "AxesSubplot(0.125,0.125;0.775x0.18875)\n"
     ]
    },
    {
     "data": {
      "image/png": "[encoded data removed]",
      "text/plain": [
       "<Figure size 1080x720 with 3 Axes>"
      ]
     },
     "metadata": {
      "needs_background": "light"
     },
     "output_type": "display_data"
    }
   ],
   "source": [
    "fig, axes = plt.subplots(nrows=3, ncols=1, figsize=(15, 10))\n",
    "fig.subplots_adjust(hspace=0.5)\n",
    "fig.suptitle('Number of Democratic Transitions and Breakdowns from 1800 to 2015',\n",
    "             fontsize=20, fontname='Big Caslon')\n",
    "\n",
    "data_list = [num_breakdowns_year, num_to_dem_year, total_trans]\n",
    "subtitles = ['Democratic Breakdowns: Breakdowns are frequent in the late 21th century',\n",
    "             'Transitions to Democracy: Number of transitions peaked during \"The Third Wave\"',\n",
    "             'Breakdowns and Transitions to Democracy Combined']\n",
    "#colors = ['#87c0cd', '#226597', '#113f67']\n",
    "colors = ['#ee4540', '#c72c41', '#801336'] \n",
    "i = 0\n",
    "\n",
    "for ax, data, st, c in zip(axes.flatten(), data_list, subtitles, colors):\n",
    "    i += 1\n",
    "    print(ax)\n",
    "    ax.set(ylim=(0, 10))\n",
    "    ax.bar(data.index, data.values, color=c)\n",
    "    ax.xaxis.set_major_locator(MaxNLocator(15))\n",
    "    ax.set_title(st, fontname='Big Caslon', fontsize=14)\n",
    "    if i == 3:\n",
    "        ax.set_xlabel('Year', fontname='Big Caslon', fontsize=12)\n",
    "    ax.set_ylabel('Number of Occurrences per year', fontname='Big Caslon', fontsize=10)\n",
    "    sns.despine()\n",
    "    \n",
    "    for tick in ax.get_xticklabels():\n",
    "        tick.set_fontname('Big Caslon')\n",
    "    for tick in ax.get_yticklabels():\n",
    "        tick.set_fontname('Big Caslon')\n",
    "\n",
    "#plt.savefig('transitions.png', dpi=300, bbox_inches='tight')\n",
    "plt.show()"
   ]
  },
  {
   "cell_type": "markdown",
   "metadata": {},
   "source": [
    "### Plotting the final visualization (Please grade this plot)"
   ]
  },
  {
   "cell_type": "code",
   "execution_count": 39,
   "metadata": {},
   "outputs": [
    {
     "name": "stdout",
     "output_type": "stream",
     "text": [
      "AxesSubplot(0.125,0.69125;0.775x0.18875)\n",
      "AxesSubplot(0.125,0.408125;0.775x0.18875)\n",
      "AxesSubplot(0.125,0.125;0.775x0.18875)\n"
     ]
    },
    {
     "data": {
      "image/png": "[encoded data removed]",
      "text/plain": [
       "<Figure size 1080x720 with 3 Axes>"
      ]
     },
     "metadata": {
      "needs_background": "light"
     },
     "output_type": "display_data"
    }
   ],
   "source": [
    "fig, axes = plt.subplots(nrows=3, ncols=1, figsize=(15, 10))\n",
    "fig.subplots_adjust(hspace=0.5)\n",
    "fig.suptitle('Number of Democratic Transitions and Breakdowns from 1800 to 2015',\n",
    "             fontsize=20, fontname='Big Caslon')\n",
    "\n",
    "data_list = [num_breakdowns_year, num_to_dem_year, total_trans]\n",
    "subtitles = ['Democratic Breakdowns: Breakdowns are frequent in the late 21th century',\n",
    "             'Transitions to Democracy: Number of transitions peaked during \"The Third Wave\"',\n",
    "             'Breakdowns and Transitions to Democracy Combined*: Transitions are more frequent']\n",
    "#c_tup = ('#1c1259','#ee4266')\n",
    "c_tup = ('#ee4266', '#1c1259')\n",
    "#c_tup = ('#1cb3c8', '#3c415e')\n",
    "colors = [c_tup[0], c_tup[1], c_tup]\n",
    "i = 0\n",
    "\n",
    "for ax, data, st, c in zip(axes.flatten(), data_list, subtitles, colors):\n",
    "    i += 1\n",
    "    print(ax)\n",
    "    ax.set(ylim=(0, 10))\n",
    "    if i == 3:    # make a stacked bar graph\n",
    "        ax.set_xlabel('Year', fontname='Big Caslon', fontsize=12)\n",
    "        ax.bar(data.index, num_breakdowns_year.values, color=c[0])\n",
    "        ax.bar(data.index, num_to_dem_year.values, bottom=num_breakdowns_year.values, color=c[1])\n",
    "    else:\n",
    "        ax.bar(data.index, data.values, color=c)\n",
    "    ax.xaxis.set_major_locator(MaxNLocator(15))\n",
    "    ax.set_title(st, fontname='Big Caslon', fontsize=14)\n",
    "    ax.set_ylabel('Number of Occurrences per year', fontname='Big Caslon', fontsize=10)\n",
    "\n",
    "    sns.despine()\n",
    "    \n",
    "    for tick in ax.get_xticklabels():\n",
    "        tick.set_fontname('Big Caslon')\n",
    "    for tick in ax.get_yticklabels():\n",
    "        tick.set_fontname('Big Caslon')\n",
    "\n",
    "ftnt = ('*The height of a stacked bar denotes the number of breakdowns plus the number of transitions.'\n",
    "       'The last bar means 1 transition + 1 breakdown = 2 events in total')\n",
    "plt.figtext(0.99, 0.01, ftnt, horizontalalignment='right', fontfamily='Big Caslon')\n",
    "plt.savefig('transitions.png', dpi=300, bbox_inches='tight')\n",
    "plt.show()"
   ]
  },
  {
   "cell_type": "markdown",
   "metadata": {},
   "source": [
    "In your written explanation, be sure to rigorously defend your design choices. This includes (but is not limited to):\n",
    "\n",
    "* What is the story?\n",
    "* Why did you select this graphical form?\n",
    "* Why did you use each channel to encode the data (e.g. spatial position, size, color, scale)?\n",
    "* How do these decisions facilitate effective communication?\n",
    "\n",
    "[Is it truthful?\n",
    "Is it functional?\n",
    "Is it beautiful?\n",
    "Is it insightful?\n",
    "Is it enlightening?]"
   ]
  },
  {
   "cell_type": "markdown",
   "metadata": {},
   "source": [
    "__Discussion__\n",
    "\n",
    "As my primary research interest is on regime change, the story that I want to tell here is democratic transitions have yet to be stabilized. It is true that breakdowns and transitions frequently occur in the 20th century than in the 19th century, but they do not seem to disappear. What this plot does not capture is that by 1800, some countries are already a democracy and have not experienced breakdowns/transitions like the United States. However, the goal of this visualization is to underscore the fact that democratic breakdowns and transitions still occur, but most activities tend to be during the \"Third Wave\" of democracy as Huntington puts it. The chart may beg another question: how many countries are actually contributing to these activities? Unfortunately, we would need another chart to visualize that.\n",
    "\n",
    "This visualization is based on a data set called Boix-Miller-Rosato (BMR) Dichotomous Coding of Democracy, Version 3.0 which hand-codes all regime types and transitions from 1800 to 2015 across 222 countries. I chose this data set because the coding scheme is very straightforward and does not require a lot of cleaning before visualizing. In order to obtain what kind of transition occurs in a distinct country-year, I select democracy_trans variable which encodes -1 as democratic breakdown, 0 as no change and 1 as transition (to democracy). I then made dummy variables of the 3 categories for calculating the number of breakdowns and transitions to democracy respectively. Next, I group the data by year and calculate the total number of breakdowns and transitions combined, the number of breakdowns and the number of transitions to democracy. Finally, I visualize the prepared data using a series of bar plots.\n",
    "\n",
    "On bar plots, I chose them because I am plotting the number of occurrences of a political event across different years. I think that bar plot is associated with frequency (like distribution plots), so it should be straightforward to the audience to interpret. I decide to make a series of static plots because each of them tell a slightly different story. The first subplot is on the number of democratic breakdowns while the second one is on the number of transitions to democracy. The final subplot combines both information with the aim to illustrate the proportion of breakdowns and democratic transitions per year. Readers should walk away from this plot with the idea that transitions to democracy are much more ubiquitous than breakdowns. \n",
    "\n",
    "Normally, I refrain from using a stacked bar chart because it is sometimes confusing and hard to interpret. However, because the stacked plot is accompanied by the first two plots which separately illustrate each component of the stacked bar chart, it makes sense to use a stacked plot here. Without a stacked bar, the final plot would not have added much useful information (I made a non-stacked chart in my first iteration (as you can see) and my friend said it did not add much value. Per his suggestion, I made a stacked bar plot).\n",
    "\n",
    "On color schemes, I intentionally use (almost) opposite colors to highlight the differences between each plot. The stacked bar graph is just a combination of the two above plots, so the same color scheme is repeated again. Different colors should alert readers that the two charts convey different information too.\n",
    "\n",
    "On labels and scale, labels are carefully crafted. In Matplotlib, even for a figure with subplots, all x and y axis labels are normally repeated in each subplot. I reduced the y-axis label to be present only once at the bottom center to avoid clutter, but I decide to keep y-axis labels as they are for clarity. I purposefully did not add legends to indicate different colors (also to avoid clutter). I believe I have this luxury because the subplot titles in the above two plots and colors should aid the audience in interpreting the stacked bar chart. Although this piece of information is implied, I believe other components of the visualization justifies its implication. Regarding the x-axis tickers (year), I customize it to show 15 different years rather than the defaulted 5 years to increase granularity. Y axes of all plots start and end on the same scale, ranging from 0 to 10. Fonts are customized and standardized to make it look professional. The main title and subtitles are written to describe key insights of the graph rather than saying the obvious so that the readers do not have to refer to the write-up here.  \n",
    "\n",
    "This chart should satisfy Cairo's truthfulness, functionality, beauty, and insight. However, readers may question whether it is enlightening. It is undeniable that the information I am presenting in this chart is fairly well-recognized (democracy is rather a modern regime; a lot of countries democratized between the 1980s and 1990s). Nevertheless, I have yet to see a good visualization of this insight. Scholars usually show a table full of numbers of countries that experienced democratic transitions and/or breakdowns. My rationale is to give this widely known fact a fresh look using what I learned in class. Some audience who are not familiar with regime change literature or this fact may find it enlightening or easy to remember with this plot. \n"
   ]
  },
  {
   "cell_type": "markdown",
   "metadata": {},
   "source": [
    "References:\n",
    "1. http://jonathansoma.com/lede/data-studio/matplotlib/changing-fonts-in-matplotlib/\n",
    "2. http://jonathansoma.com/lede/data-studio/matplotlib/list-all-fonts-available-in-matplotlib-plus-samples/\n",
    "3. https://medium.com/@rayheberer/generating-matplotlib-subplots-programmatically-cc234629b648\n",
    "4. https://flynn.gg/blog/better-matplotlib-charts/"
   ]
  },
  {
   "cell_type": "code",
   "execution_count": null,
   "metadata": {},
   "outputs": [],
   "source": []
  }
 ],
 "metadata": {
  "kernelspec": {
   "display_name": "Python 3",
   "language": "python",
   "name": "python3"
  },
  "language_info": {
   "codemirror_mode": {
    "name": "ipython",
    "version": 3
   },
   "file_extension": ".py",
   "mimetype": "text/x-python",
   "name": "python",
   "nbconvert_exporter": "python",
   "pygments_lexer": "ipython3",
   "version": "3.6.8"
  }
 },
 "nbformat": 4,
 "nbformat_minor": 2
}
